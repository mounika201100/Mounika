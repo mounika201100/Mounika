{
  "metadata": {
    "kernelspec": {
      "name": "python",
      "display_name": "Python (Pyodide)",
      "language": "python"
    },
    "language_info": {
      "codemirror_mode": {
        "name": "python",
        "version": 3
      },
      "file_extension": ".py",
      "mimetype": "text/x-python",
      "name": "python",
      "nbconvert_exporter": "python",
      "pygments_lexer": "ipython3",
      "version": "3.8"
    }
  },
  "nbformat_minor": 4,
  "nbformat": 4,
  "cells": [
    {
      "cell_type": "markdown",
      "source": "# **Mounika Sesetty: Peer-graded_Assignment_Submitting_My_Work**",
      "metadata": {}
    },
    {
      "cell_type": "markdown",
      "source": "# **Introduction to Data Science Tools**\n",
      "metadata": {}
    },
    {
      "cell_type": "markdown",
      "source": "**data science languages:**\nPython\nR\nSQL\nC/C++\nJava\nJavaScript\nGo\nScala\nJulia\nSwift\nMATLAB\nSAS",
      "metadata": {}
    },
    {
      "cell_type": "markdown",
      "source": "**data science libraries:**\nTensorFlow\nNumPy\nSciPy \nPandas\nMatplotlib \nKeras\nSciKit-Learn\nPyTorch",
      "metadata": {}
    },
    {
      "cell_type": "markdown",
      "source": "**Data Science Tools**",
      "metadata": {}
    },
    {
      "cell_type": "markdown",
      "source": "SAS. It is one of those data science tools which are specifically designed for statistical operation\t",
      "metadata": {}
    },
    {
      "cell_type": "markdown",
      "source": "Apache Spark",
      "metadata": {}
    },
    {
      "cell_type": "markdown",
      "source": "BigML",
      "metadata": {}
    },
    {
      "cell_type": "markdown",
      "source": "# **few examples of evaluating arithmetic expressions in Python**",
      "metadata": {}
    },
    {
      "cell_type": "code",
      "source": "(3*4)+5\n",
      "metadata": {
        "trusted": true
      },
      "outputs": [
        {
          "execution_count": 17,
          "output_type": "execute_result",
          "data": {
            "text/plain": "17"
          },
          "metadata": {}
        }
      ],
      "execution_count": 17
    },
    {
      "cell_type": "code",
      "source": "days = 0\nhours = 0\nmins = 0\n\ntime = 200\n#days = time / 1440\nleftover_minutes = time % 1440\nhours = leftover_minutes / 60\n#mins = time - (days*1440) - (hours*60)\nprint(str(days) + \" days, \" + str(hours) + \" hours, \" + str(mins) +  \" mins. \")\n\n",
      "metadata": {
        "trusted": true
      },
      "outputs": [
        {
          "name": "stdout",
          "text": "0 days, 3.3333333333333335 hours, 0 mins. \n",
          "output_type": "stream"
        }
      ],
      "execution_count": 18
    },
    {
      "cell_type": "code",
      "source": "total_minutes = 374\n\n# Get hours with floor division\nhours = total_minutes // 60\n\n# Get additional minutes with modulus\nminutes = total_minutes % 60\n\n# Create time as a string\ntime_string = \"{}:{}\".format(hours, minutes)\n\nprint(time_string) # Prints '6:14' in this example",
      "metadata": {
        "trusted": true
      },
      "outputs": [
        {
          "name": "stdout",
          "text": "6:14\n",
          "output_type": "stream"
        }
      ],
      "execution_count": 19
    },
    {
      "cell_type": "markdown",
      "source": "# **Objectives**",
      "metadata": {}
    },
    {
      "cell_type": "markdown",
      "source": "**Author:**\nMounika Sesetty",
      "metadata": {}
    },
    {
      "cell_type": "code",
      "source": "",
      "metadata": {
        "trusted": true
      },
      "outputs": [],
      "execution_count": null
    }
  ]
}